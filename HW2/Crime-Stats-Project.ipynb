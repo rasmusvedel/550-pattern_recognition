{
 "cells": [
  {
   "cell_type": "markdown",
   "id": "55e6b918-afac-43e8-b338-43f8ac64014f",
   "metadata": {},
   "source": [
    "##  Deep Neural Networks Project"
   ]
  },
  {
   "cell_type": "markdown",
   "id": "1a8e066d-2849-4a6e-9c71-bb98d605ae07",
   "metadata": {},
   "source": [
    "In this project, you will be working with a real-world data set from the Las Vegas Metropolitan Police Department. The dataset  contains information about the reported incidents, including the time and location of the crime, type of incident, and number of persons involved. "
   ]
  },
  {
   "cell_type": "markdown",
   "id": "9e87fac7-352a-4c39-b087-76254b5e2743",
   "metadata": {},
   "source": [
    "The dataset is downloaded from the public docket at: \n",
    "https://opendata-lvmpd.hub.arcgis.com\n",
    "\n",
    "let's read the csv file and transform the data:"
   ]
  },
  {
   "cell_type": "code",
   "execution_count": 65,
   "id": "637211a4-582f-426b-a127-c3f284463f35",
   "metadata": {
    "ExecuteTime": {
     "end_time": "2023-10-28T06:41:08.152728800Z",
     "start_time": "2023-10-28T06:41:08.017052400Z"
    }
   },
   "outputs": [],
   "source": [
    "import math\n",
    "from sklearn.model_selection import train_test_split\n",
    "import torch\n",
    "import pandas as pd\n",
    "from torch.utils.data import DataLoader, Dataset\n",
    "import matplotlib.pyplot as plt\n",
    "import seaborn as sns\n",
    "import numpy as np"
   ]
  },
  {
   "cell_type": "code",
   "execution_count": 66,
   "id": "bcf40b02-80b6-4abc-a662-f7ed50a65181",
   "metadata": {
    "ExecuteTime": {
     "end_time": "2023-10-28T06:41:08.302456100Z",
     "start_time": "2023-10-28T06:41:08.025424200Z"
    }
   },
   "outputs": [],
   "source": [
    "orig_df = pd.read_csv('../../datasets/LVMPD-Stats.csv', parse_dates=['ReportedOn'])"
   ]
  },
  {
   "cell_type": "code",
   "execution_count": 67,
   "id": "e1ca1d15-3955-4971-a3c4-c1a73b62edda",
   "metadata": {
    "ExecuteTime": {
     "end_time": "2023-10-28T06:41:08.349915300Z",
     "start_time": "2023-10-28T06:41:08.045925100Z"
    }
   },
   "outputs": [],
   "source": [
    "df = pd.read_csv('../../datasets/LVMPD-Stats.csv', parse_dates=['ReportedOn'],\n",
    "                 usecols = ['X', 'Y', 'ReportedOn',\n",
    "                            'Area_Command','NIBRSOffenseCode',\n",
    "                            'VictimCount' ] )\n",
    "\n",
    "df['DayOfWeek'] = df['ReportedOn'].dt.day_name()\n",
    "df['Time' ]     = df['ReportedOn'].dt.hour\n",
    "df.drop(columns = 'ReportedOn', inplace=True)"
   ]
  },
  {
   "cell_type": "code",
   "execution_count": 68,
   "id": "3ddc413d-ba3f-4204-bc18-7fdd4de8d221",
   "metadata": {
    "ExecuteTime": {
     "end_time": "2023-10-28T06:41:08.353425200Z",
     "start_time": "2023-10-28T06:41:08.074779100Z"
    }
   },
   "outputs": [],
   "source": [
    "\n",
    "df['X'] = df['X'] \n",
    "df['Y'] = df['Y'] \n",
    "df['Time'] = pd.factorize(df['Time'])[0]\n",
    "df['DayOfWeek'] = pd.factorize(df['DayOfWeek'])[0]\n",
    "df.Area_Command = pd.factorize(df['Area_Command'])[0]\n",
    "df.VictimCount = pd.factorize(df['VictimCount'])[0]\n",
    "df.NIBRSOffenseCode = pd.factorize(df['NIBRSOffenseCode'])[0]\n",
    "df.dropna(inplace=True)"
   ]
  },
  {
   "cell_type": "code",
   "execution_count": 69,
   "id": "a9c6162f-9686-4195-818d-950a6368c686",
   "metadata": {
    "ExecuteTime": {
     "end_time": "2023-10-28T06:41:08.357415300Z",
     "start_time": "2023-10-28T06:41:08.089808100Z"
    }
   },
   "outputs": [],
   "source": [
    "df= df[['X', 'Y', 'Area_Command', 'NIBRSOffenseCode',\n",
    "       'DayOfWeek', 'Time','VictimCount']]"
   ]
  },
  {
   "cell_type": "code",
   "execution_count": 70,
   "id": "a90bc78a-6d1b-4fe4-a1b0-8333aec1c851",
   "metadata": {
    "ExecuteTime": {
     "end_time": "2023-10-28T06:41:08.358412300Z",
     "start_time": "2023-10-28T06:41:08.100858100Z"
    }
   },
   "outputs": [
    {
     "data": {
      "text/plain": "(275, 7)"
     },
     "execution_count": 70,
     "metadata": {},
     "output_type": "execute_result"
    }
   ],
   "source": [
    "df.values.shape"
   ]
  },
  {
   "cell_type": "markdown",
   "id": "651605b1-8d2c-4d3e-a09e-9aef6e550fc6",
   "metadata": {},
   "source": [
    "# Goal\n",
    "The goal is to build a predictive model that is trained on the following data:\n",
    "* latitude and longitude (location)\n",
    "* Hour of the day\n",
    "* Day of the week\n",
    "* Area-of-command code: The police designation of the bureau of the operation.\n",
    "* Classification code for the crime committed\n",
    "  \n",
    "The predicted variable is the number of persons involved in the accident.\n"
   ]
  },
  {
   "cell_type": "markdown",
   "id": "0e54f0b8-83f9-4db9-88f9-f5a595342069",
   "metadata": {},
   "source": [
    "## Task 1\n",
    "* print a few rows of the values in the dataframe ``df`` and explain what each column of data means. \n",
    "* identify the input and target variables\n",
    "* what is the range of values in each column? Do you need to scale, shift or normalize your data? \n"
   ]
  },
  {
   "cell_type": "code",
   "execution_count": 71,
   "outputs": [
    {
     "name": "stdout",
     "output_type": "stream",
     "text": [
      "X                  -115.087518\n",
      "Y                    36.216702\n",
      "Area_Command          0.000000\n",
      "NIBRSOffenseCode      0.000000\n",
      "DayOfWeek             0.000000\n",
      "Time                  0.000000\n",
      "VictimCount           0.000000\n",
      "Name: 0, dtype: float64\n",
      "\n",
      "X                  -115.240172\n",
      "Y                    36.189693\n",
      "Area_Command          1.000000\n",
      "NIBRSOffenseCode      1.000000\n",
      "DayOfWeek             1.000000\n",
      "Time                  1.000000\n",
      "VictimCount           0.000000\n",
      "Name: 1, dtype: float64\n",
      "\n",
      "X                  -115.143088\n",
      "Y                    36.181329\n",
      "Area_Command          2.000000\n",
      "NIBRSOffenseCode      1.000000\n",
      "DayOfWeek             2.000000\n",
      "Time                  0.000000\n",
      "VictimCount           1.000000\n",
      "Name: 2, dtype: float64\n",
      "\n",
      "X                   0.663899\n",
      "Y                   0.594478\n",
      "Area_Command        0.000000\n",
      "NIBRSOffenseCode    0.000000\n",
      "DayOfWeek           0.000000\n",
      "Time                0.000000\n",
      "VictimCount         0.000000\n",
      "Name: 0, dtype: float64\n"
     ]
    }
   ],
   "source": [
    "##Print a few rows of df:\n",
    "for i in range(3):\n",
    "    print(df.iloc[i,:])\n",
    "    print()\n",
    "\n",
    "#inputs will be: df[['X', 'Y', 'Area_Command', 'NIBRSOffenseCode', 'DayOfWeek', 'Time',]]\n",
    "#the predicted values: df['VictimCount']\n",
    "\n",
    "#Scaling has already been done to several of the inputs, with the use of the pd.factorize method. Making them into a integer instead of a string\n",
    "#As the coordinates fall pretty close to each other, these could be normalized. This is not required it could maybe increase the efficency of the model\n",
    "#Min/max normalization will therefore be done:\n",
    "df['X'] = (df['X'] - df['X'].min())/(df['X'].max() - df['X'].min())\n",
    "df['Y'] = (df['Y'] - df['Y'].min())/(df['Y'].max() - df['Y'].min())\n",
    "\n",
    "#print a updated row\n",
    "print(df.iloc[0,:])"
   ],
   "metadata": {
    "collapsed": false,
    "ExecuteTime": {
     "end_time": "2023-10-28T06:41:08.359410500Z",
     "start_time": "2023-10-28T06:41:08.115596500Z"
    }
   },
   "id": "6368827f5d3768a1"
  },
  {
   "cell_type": "markdown",
   "id": "5549ecc9-3c0b-4efa-9a1f-340a25a1e4be",
   "metadata": {},
   "source": [
    "## Task 2 \n",
    "\n",
    "* Create two `DataLoader` objects for training and testing based on the input and output variables. Pick a reasonable batch size and verify the shape of data by iterating over the one dataset and printing the shape of the batched data. "
   ]
  },
  {
   "cell_type": "code",
   "execution_count": 72,
   "id": "00fe4287-934b-4799-9e43-c3571acfbab4",
   "metadata": {
    "ExecuteTime": {
     "end_time": "2023-10-28T06:41:08.361918600Z",
     "start_time": "2023-10-28T06:41:08.138149100Z"
    }
   },
   "outputs": [
    {
     "name": "stdout",
     "output_type": "stream",
     "text": [
      "torch.Size([32, 6])\n",
      "torch.Size([32])\n",
      "torch.Size([32, 6])\n",
      "torch.Size([32])\n"
     ]
    },
    {
     "name": "stderr",
     "output_type": "stream",
     "text": [
      "C:\\Users\\ralle\\AppData\\Local\\Temp\\ipykernel_23944\\3212694298.py:15: FutureWarning: Series.__getitem__ treating keys as positions is deprecated. In a future version, integer keys will always be treated as labels (consistent with DataFrame behavior). To access a value by position, use `ser.iloc[pos]`\n",
      "  input = torch.tensor(input, dtype=torch.float32)\n"
     ]
    }
   ],
   "source": [
    "## source: https://pytorch.org/tutorials/beginner/basics/data_tutorial.html\n",
    "\n",
    "class CustomDataset(Dataset):\n",
    "    def __init__(self, dataframe):\n",
    "        self.dataframe = dataframe\n",
    "\n",
    "    def __len__(self):\n",
    "        return len(self.dataframe)\n",
    "\n",
    "    def __getitem__(self, idx):\n",
    "        input = self.dataframe.iloc[idx, :-1] ## everything except last coloumn (VictimCount)\n",
    "        output = self.dataframe.iloc[idx, -1] \n",
    "\n",
    "        ## cast into pytorch tensors, needed for later\n",
    "        input = torch.tensor(input, dtype=torch.float32) \n",
    "        output = torch.tensor(output, dtype=torch.float32)\n",
    "\n",
    "        return input, output\n",
    "\n",
    "train, test = train_test_split(df, train_size=0.8)\n",
    "\n",
    "batch_size = 32\n",
    "train_dataloader = DataLoader(CustomDataset(train), batch_size=batch_size)\n",
    "test_dataloader = DataLoader(CustomDataset(train), batch_size=batch_size)\n",
    "\n",
    "for input_batch, output_batch in train_dataloader:\n",
    "    print(input_batch.shape)\n",
    "    print(output_batch.shape)\n",
    "    break\n",
    "\n",
    "for input_batch, output_batch in test_dataloader:\n",
    "    print(input_batch.shape)\n",
    "    print(output_batch.shape)\n",
    "    break\n",
    "    "
   ]
  },
  {
   "cell_type": "markdown",
   "id": "1fb6f08c-5e70-4b14-b62c-4686d9f7aace",
   "metadata": {},
   "source": [
    "## Task 3\n",
    "In this task you will try to predict number of crime victims as a **real number**. Therefore the machine learning problem is a **regression** problem. \n",
    "\n",
    "* Define the proper loss function for this task\n",
    "* what should the size of the predicted output be?\n",
    "* explain your choice of architecture, including how many layers you will be using\n",
    "* define an optimizer for training this model, choose a proper learning rate \n",
    "* write a training loop that obtains a batch out of the  training data and calculates the forward and backward passes over the neural network. Call the optimizer to update the weights of the neural network.\n",
    "* write a for loop that continues the training over a number of epochs. At the end of each epoch, calculate the ``MSE`` error on the test data and print it.\n",
    "* is your model training well? Adjust the learning rate, hidden size of the network, and try different activation functions and number of layers to achieve the best accuracy and report it. "
   ]
  },
  {
   "cell_type": "code",
   "execution_count": 73,
   "outputs": [],
   "source": [
    "loss_function = torch.nn.MSELoss()\n",
    "input_size = 6 #The six inputs of the model\n",
    "output_size = 1 #Since the output is just a real number the output size is just \n",
    "layer1_output_size = 12\n",
    "layer2_output_size = 6\n",
    "#Since the amount of inputs and outputs are not that big, 3 layers should be enough\n",
    "\n",
    "regression_model = torch.nn.Sequential(\n",
    "    torch.nn.Linear(input_size, layer1_output_size), ##input layer\n",
    "    torch.nn.ReLU(),\n",
    "    torch.nn.Linear(layer1_output_size, layer2_output_size),\n",
    "    torch.nn.ReLU(),\n",
    "    torch.nn.Linear(layer2_output_size, output_size)\n",
    ")\n",
    "\n",
    "regression_optimizer = torch.optim.Adam(regression_model.parameters(), lr=0.01)\n"
   ],
   "metadata": {
    "collapsed": false,
    "ExecuteTime": {
     "end_time": "2023-10-28T06:41:08.361918600Z",
     "start_time": "2023-10-28T06:41:08.184716900Z"
    }
   },
   "id": "726c4c9526a7f34e"
  },
  {
   "cell_type": "code",
   "execution_count": 74,
   "outputs": [],
   "source": [
    "#make training function for next task as well\n",
    "def train(model, optimizer, loss_function):\n",
    "    epochs = 25\n",
    "    \n",
    "    for epoch in range(epochs):\n",
    "        model.train()\n",
    "        cumulated_loss = 0.0\n",
    "        ##correct_predictions = 0\n",
    "        \n",
    "        for inputs_batch, output_batch in train_dataloader:\n",
    "            optimizer.zero_grad() ##Needed to reset gradients, source: https://pytorch.org/tutorials/beginner/basics/optimization_tutorial.html\n",
    "            \n",
    "            predicted_output = model(inputs_batch)\n",
    "            loss = loss_function(predicted_output, inputs_batch)\n",
    "            cumulated_loss += loss.data.item()\n",
    "            \n",
    "            ##if round(predicted_output.item()) == output_batch:\n",
    "            ##    correct_predictions += 1\n",
    "            \n",
    "            #backwards propagation\n",
    "            loss.backward()\n",
    "            optimizer.step()\n",
    "        \n",
    "        print(f\"Epoch {epoch+1}: Loss= {round(cumulated_loss / len(train_dataloader), 4)}\")\n",
    "        #print(f\"Epoch {epoch}: Loss= {cumulated_loss / len(train_dataloader)}, Accuracy: {correct_predictions/len(train_dataloader)}\")\n",
    "\n",
    "    "
   ],
   "metadata": {
    "collapsed": false,
    "ExecuteTime": {
     "end_time": "2023-10-28T06:41:08.361918600Z",
     "start_time": "2023-10-28T06:41:08.198146Z"
    }
   },
   "id": "15bca6985dd1a9ec"
  },
  {
   "cell_type": "code",
   "execution_count": 75,
   "outputs": [
    {
     "name": "stderr",
     "output_type": "stream",
     "text": [
      "C:\\Users\\ralle\\AppData\\Local\\Temp\\ipykernel_23944\\3212694298.py:15: FutureWarning: Series.__getitem__ treating keys as positions is deprecated. In a future version, integer keys will always be treated as labels (consistent with DataFrame behavior). To access a value by position, use `ser.iloc[pos]`\n",
      "  input = torch.tensor(input, dtype=torch.float32)\n",
      "C:\\Users\\ralle\\AppData\\Local\\Programs\\Python\\Python311\\Lib\\site-packages\\torch\\nn\\modules\\loss.py:535: UserWarning: Using a target size (torch.Size([32, 6])) that is different to the input size (torch.Size([32, 1])). This will likely lead to incorrect results due to broadcasting. Please ensure they have the same size.\n",
      "  return F.mse_loss(input, target, reduction=self.reduction)\n",
      "C:\\Users\\ralle\\AppData\\Local\\Programs\\Python\\Python311\\Lib\\site-packages\\torch\\nn\\modules\\loss.py:535: UserWarning: Using a target size (torch.Size([28, 6])) that is different to the input size (torch.Size([28, 1])). This will likely lead to incorrect results due to broadcasting. Please ensure they have the same size.\n",
      "  return F.mse_loss(input, target, reduction=self.reduction)\n"
     ]
    },
    {
     "name": "stdout",
     "output_type": "stream",
     "text": [
      "Epoch 1: Loss= 33.067\n",
      "Epoch 2: Loss= 29.6027\n",
      "Epoch 3: Loss= 24.4615\n",
      "Epoch 4: Loss= 23.204\n",
      "Epoch 5: Loss= 22.9894\n",
      "Epoch 6: Loss= 22.8198\n",
      "Epoch 7: Loss= 22.7874\n",
      "Epoch 8: Loss= 22.7006\n",
      "Epoch 9: Loss= 22.6967\n",
      "Epoch 10: Loss= 22.671\n",
      "Epoch 11: Loss= 22.6575\n",
      "Epoch 12: Loss= 22.635\n",
      "Epoch 13: Loss= 22.6248\n",
      "Epoch 14: Loss= 22.6208\n",
      "Epoch 15: Loss= 22.6202\n",
      "Epoch 16: Loss= 22.6189\n",
      "Epoch 17: Loss= 22.6181\n",
      "Epoch 18: Loss= 22.6176\n",
      "Epoch 19: Loss= 22.6171\n",
      "Epoch 20: Loss= 22.6168\n",
      "Epoch 21: Loss= 22.6166\n",
      "Epoch 22: Loss= 22.6164\n",
      "Epoch 23: Loss= 22.6163\n",
      "Epoch 24: Loss= 22.6162\n",
      "Epoch 25: Loss= 22.6162\n"
     ]
    }
   ],
   "source": [
    "train(regression_model, regression_optimizer, loss_function)\n"
   ],
   "metadata": {
    "collapsed": false,
    "ExecuteTime": {
     "end_time": "2023-10-28T06:41:11.735140200Z",
     "start_time": "2023-10-28T06:41:08.205744200Z"
    }
   },
   "id": "2f0eecb24478a6a1"
  },
  {
   "cell_type": "markdown",
   "id": "86e3fc70-c6ce-4589-9930-128951290e8d",
   "metadata": {},
   "source": [
    "## Task 4 \n",
    "\n",
    "In this task, you will try to predict the number of crime victims as a **class number**. Therefore the machine learning problem is a **classification** problem. \n",
    "\n",
    "* Repeat all the steps in task 3. Specifically, pay attention to the differences with regression.\n",
    "* How would you find the number of classes on the output data?\n",
    "* How is the architecture different?\n",
    "* How is the loss function different?\n",
    "* Calculate the Accuracy for test data as the number of correct classified outputs divided by the total number of test data in each epoch. Report it at the end of each epoch\n",
    "* Try a few variations of learning rate, hidden dimensions, layers, etc. What is the best accuracy that you can get? "
   ]
  },
  {
   "cell_type": "code",
   "execution_count": 76,
   "id": "7d929c52-af34-4081-92cd-3463a3fc4db1",
   "metadata": {
    "ExecuteTime": {
     "end_time": "2023-10-28T06:41:14.512272800Z",
     "start_time": "2023-10-28T06:41:11.723149600Z"
    }
   },
   "outputs": [
    {
     "name": "stderr",
     "output_type": "stream",
     "text": [
      "C:\\Users\\ralle\\AppData\\Local\\Temp\\ipykernel_23944\\3212694298.py:15: FutureWarning: Series.__getitem__ treating keys as positions is deprecated. In a future version, integer keys will always be treated as labels (consistent with DataFrame behavior). To access a value by position, use `ser.iloc[pos]`\n",
      "  input = torch.tensor(input, dtype=torch.float32)\n"
     ]
    },
    {
     "name": "stdout",
     "output_type": "stream",
     "text": [
      "Epoch 1: Loss= 31.6379\n",
      "Epoch 2: Loss= 27.6207\n",
      "Epoch 3: Loss= 26.3661\n",
      "Epoch 4: Loss= 25.7886\n",
      "Epoch 5: Loss= 25.4197\n",
      "Epoch 6: Loss= 25.1937\n",
      "Epoch 7: Loss= 25.0738\n",
      "Epoch 8: Loss= 24.9987\n",
      "Epoch 9: Loss= 24.94\n",
      "Epoch 10: Loss= 24.8868\n",
      "Epoch 11: Loss= 24.8431\n",
      "Epoch 12: Loss= 24.8044\n",
      "Epoch 13: Loss= 24.7703\n",
      "Epoch 14: Loss= 24.7381\n",
      "Epoch 15: Loss= 24.707\n",
      "Epoch 16: Loss= 24.678\n",
      "Epoch 17: Loss= 24.651\n",
      "Epoch 18: Loss= 24.6245\n",
      "Epoch 19: Loss= 24.5995\n",
      "Epoch 20: Loss= 24.5768\n",
      "Epoch 21: Loss= 24.556\n",
      "Epoch 22: Loss= 24.537\n",
      "Epoch 23: Loss= 24.5194\n",
      "Epoch 24: Loss= 24.5032\n",
      "Epoch 25: Loss= 24.4881\n"
     ]
    }
   ],
   "source": [
    "##since we have already factorized the VictimCount (ouput) coloumn in our dataframe, we can just have the amount of outputs being the amount of different numbers in the coloumn which can be found by taking the max value of the coloumn:\n",
    "output_size = df['VictimCount'].max()\n",
    "\n",
    "## else we can use more or less the same architecture, except we need a new loss function:\n",
    "loss_function = torch.nn.CrossEntropyLoss()\n",
    "\n",
    "classification_model = torch.nn.Sequential(\n",
    "    torch.nn.Linear(input_size, layer1_output_size), ##input layer\n",
    "    torch.nn.ReLU(),\n",
    "    torch.nn.Linear(layer1_output_size, layer2_output_size),\n",
    "    torch.nn.ReLU(),\n",
    "    torch.nn.Linear(layer2_output_size, output_size)\n",
    ")\n",
    "\n",
    "classification_optimizer = torch.optim.Adam(classification_model.parameters(), lr=0.01)\n",
    "\n",
    "train(classification_model, classification_optimizer, loss_function)\n"
   ]
  },
  {
   "cell_type": "code",
   "execution_count": 77,
   "outputs": [
    {
     "name": "stdout",
     "output_type": "stream",
     "text": [
      "Accuracy: 0.0\n"
     ]
    },
    {
     "name": "stderr",
     "output_type": "stream",
     "text": [
      "C:\\Users\\ralle\\AppData\\Local\\Temp\\ipykernel_23944\\3212694298.py:15: FutureWarning: Series.__getitem__ treating keys as positions is deprecated. In a future version, integer keys will always be treated as labels (consistent with DataFrame behavior). To access a value by position, use `ser.iloc[pos]`\n",
      "  input = torch.tensor(input, dtype=torch.float32)\n"
     ]
    }
   ],
   "source": [
    "## calculate accuracy:\n",
    "\n",
    "classification_model.eval() ##evaluation mode\n",
    "correct_classifications = 0\n",
    "\n",
    "for input_batch, output_batch in test_dataloader:\n",
    "    classifications = classification_model(input_batch)\n",
    "    _,predicted = torch.max(classifications, 1)\n",
    "    for i in range(len(test_dataloader)):\n",
    "        if predicted[i] == output_batch[i]:\n",
    "            correct_classifications += 1\n",
    "\n",
    "print(f\"Accuracy: {correct_classifications / len(test_dataloader)}\")"
   ],
   "metadata": {
    "collapsed": false,
    "ExecuteTime": {
     "end_time": "2023-10-28T06:41:14.654041800Z",
     "start_time": "2023-10-28T06:41:14.515823400Z"
    }
   },
   "id": "96f7e7db368ea821"
  },
  {
   "cell_type": "markdown",
   "id": "d6e4ef16-d828-45e5-bd58-1c49fcfecf52",
   "metadata": {},
   "source": [
    "## Task 5\n",
    "\n",
    "### Reflect on your results\n",
    "\n",
    "* Write a paragraph about your experience with tasks 3 and 4. How do you compare the results? Which one worked better? Why?\n",
    "* Write a piece of code that finds an example of a  miss-classification. Calculate the probabilities for the output classes and plot them in a bar chart. Also, indicate what is the correct class label."
   ]
  },
  {
   "cell_type": "code",
   "execution_count": 78,
   "outputs": [
    {
     "name": "stderr",
     "output_type": "stream",
     "text": [
      "C:\\Users\\ralle\\AppData\\Local\\Temp\\ipykernel_23944\\3212694298.py:15: FutureWarning: Series.__getitem__ treating keys as positions is deprecated. In a future version, integer keys will always be treated as labels (consistent with DataFrame behavior). To access a value by position, use `ser.iloc[pos]`\n",
      "  input = torch.tensor(input, dtype=torch.float32)\n"
     ]
    },
    {
     "data": {
      "text/plain": "<Figure size 600x500 with 1 Axes>",
      "image/png": "[encoded data removed]"
     },
     "metadata": {},
     "output_type": "display_data"
    }
   ],
   "source": [
    "##I'm clearly doing something wrong as the accuracy seems insanely low, even though the amount of instances of some of the victimcounts is low, the accuracy seems too low\n",
    "##Optimally you would compare results by comparing the accuracy, but when \n",
    "\n",
    "\n",
    "with torch.no_grad(): ## errors if i dont do this as i cant get numpy of tensor with a grad\n",
    "    \n",
    "    for input_batch, output_batch in test_dataloader:\n",
    "        classifications = classification_model(input_batch)\n",
    "    \n",
    "        classification_probabilities = torch.nn.functional.softmax(classifications, dim=1) ##use softmax to get probabilities\n",
    "    \n",
    "        miss_classification_index = 0\n",
    "        _,predicted = torch.max(classifications, 1)\n",
    "        for i in range(batch_size):\n",
    "            if predicted[i] != output_batch[i]:\n",
    "                miss_classification_index = i\n",
    "                break\n",
    "    \n",
    "        correct_classification = output_batch[miss_classification_index].item()\n",
    "        miss_classification = predicted[miss_classification_index].item()\n",
    "    \n",
    "        plt.figure(figsize=(6, 5))\n",
    "        plt.bar(range(output_size), classification_probabilities[miss_classification_index].numpy())\n",
    "        plt.xticks(range(output_size), rotation=45)\n",
    "        plt.xlabel(\"classification\")\n",
    "        plt.ylabel(\"probability\")\n",
    "        plt.title(\"classification Probabilities\")\n",
    "        plt.ylim([0, 1])\n",
    "        \n",
    "        plt.text(correct_classification, 0.95, f'Correct: {correct_classification}', color='green', fontsize=12)\n",
    "        plt.text(miss_classification, 0.9, f'Predicted: {miss_classification}', color='red', fontsize=12)\n",
    "        break\n",
    "\n",
    "            "
   ],
   "metadata": {
    "collapsed": false,
    "ExecuteTime": {
     "end_time": "2023-10-28T06:41:15.476864600Z",
     "start_time": "2023-10-28T06:41:14.664581400Z"
    }
   },
   "id": "532bf2207eda334d"
  },
  {
   "cell_type": "markdown",
   "id": "5b000b0b-fa37-4f8d-8ec7-0a1e6e749424",
   "metadata": {},
   "source": [
    "## Task 6: Exploring the patterns in raw data\n",
    "\n",
    "* Plot the crime incidents as a `scatter` plot using the corrdinates. Use the color property of each datapoint to indicate the day of the week. Is there a pattern in the plot?\n",
    "* Now make a new scatter plot and use the color property of each datapoint to indicate the number of persons involved in the incident. Is there a pattern here?\n",
    "* use numpy (or pandas if you like) to sort the number of crimes reported by the day of the week. What days are most frequent?\n"
   ]
  },
  {
   "cell_type": "code",
   "execution_count": 89,
   "id": "5b396aaf-5d1a-49cd-ae1d-b63af7e561f5",
   "metadata": {
    "ExecuteTime": {
     "end_time": "2023-10-28T06:54:05.517965600Z",
     "start_time": "2023-10-28T06:54:04.710395500Z"
    }
   },
   "outputs": [
    {
     "name": "stdout",
     "output_type": "stream",
     "text": [
      "4\n"
     ]
    },
    {
     "data": {
      "text/plain": "<Figure size 640x480 with 1 Axes>",
      "image/png": "[encoded data removed]"
     },
     "metadata": {},
     "output_type": "display_data"
    }
   ],
   "source": [
    "sns.scatterplot(x='X', y='Y', data=df, hue='DayOfWeek') ## No clear pattern\n",
    "\n",
    "sns.scatterplot(x='X', y='Y', data=df, hue='VictimCount') ## No clear pattern\n",
    "\n",
    "print(df['DayOfWeek'].value_counts().idxmax()) ## 4, which is friday\n",
    "# therefore most common day of the crimes reported in the dataset is friday\n"
   ]
  }
 ],
 "metadata": {
  "kernelspec": {
   "display_name": "Python 3 (ipykernel)",
   "language": "python",
   "name": "python3"
  },
  "language_info": {
   "codemirror_mode": {
    "name": "ipython",
    "version": 3
   },
   "file_extension": ".py",
   "mimetype": "text/x-python",
   "name": "python",
   "nbconvert_exporter": "python",
   "pygments_lexer": "ipython3",
   "version": "3.11.5"
  }
 },
 "nbformat": 4,
 "nbformat_minor": 5
}
